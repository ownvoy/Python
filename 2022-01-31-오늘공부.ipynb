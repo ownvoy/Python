{
 "cells": [
  {
   "cell_type": "markdown",
   "metadata": {},
   "source": [
    "## Data Merging (1)\n",
    "\n",
    "### Data merging basics\n",
    "\n",
    "여러개의 table을 하나의 table을 합치고 싶을 수 있다.  "
   ]
  },
  {
   "cell_type": "code",
   "execution_count": 24,
   "metadata": {},
   "outputs": [
    {
     "name": "stdout",
     "output_type": "stream",
     "text": [
      "    vid    make   model  year fuel_type                owner\n",
      "0  2767  TOYOTA   CAMRY  2013    HYBRID       SEYED M. BADRI\n",
      "1  1411  TOYOTA    RAV4  2017    HYBRID          DESZY CORP.\n",
      "2  6500  NISSAN  SENTRA  2019  GASOLINE       AGAPH CAB CORP\n",
      "3  2746  TOYOTA   CAMRY  2013    HYBRID  MIDWEST CAB CO, INC\n",
      "4  5922  TOYOTA   CAMRY  2013    HYBRID       SUMETTI CAB CO\n",
      "\n",
      "     rid   vid           owner                 address    zip\n",
      "0  T6285  6285  AGEAN TAXI LLC     4536 N. ELSTON AVE.  60630\n",
      "1  T4862  4862    MANGIB CORP.  5717 N. WASHTENAW AVE.  60659\n",
      "2  T1495  1495   FUNRIDE, INC.     3351 W. ADDISON ST.  60618\n",
      "3  T4231  4231    ALQUSH CORP.   6611 N. CAMPBELL AVE.  60645\n",
      "4  T5971  5971  EUNIFFORD INC.     3351 W. ADDISON ST.  60618\n"
     ]
    }
   ],
   "source": [
    "import pandas as pd\n",
    "import numpy as np\n",
    "import pickle\n",
    "\n",
    "taxi_veh = pd.read_pickle('taxi_vehicles.p')\n",
    "taxi_owners = pd.read_pickle('taxi_owners.p')\n",
    "wards = pd.read_pickle('ward.p')\n",
    "census = pd.read_pickle('census.p')\n",
    "licenses = pd.read_pickle('licenses.p')\n",
    "biz_owners = pd.read_pickle('business_owners.p')\n",
    "zip_demo = pd.read_pickle(\"zip_demo.p\")\n",
    "land_use = pd.read_pickle('land_use.p')\n",
    "movies = pd.read_pickle('movies.p')\n",
    "financials = pd.read_pickle('financials.p')\n",
    "movie_to_genres = pd.read_pickle('movie_to_genres.p')\n",
    "taglines = pd.read_pickle('taglines.p')\n",
    "\n",
    "print(taxi_veh.head())\n",
    "print()\n",
    "print(taxi_owners.head())"
   ]
  },
  {
   "cell_type": "markdown",
   "metadata": {},
   "source": [
    "두 table에 `vid`로 묶을 수 있을 것 같다. 이는 다음과 같이 수행할 수 있다. 이런식으로 두 table에 있는 `vid`에 대해 match하는 value를 가진 rows를 반환하는 것을 inner join이라 한다.  "
   ]
  },
  {
   "cell_type": "code",
   "execution_count": 25,
   "metadata": {},
   "outputs": [
    {
     "name": "stdout",
     "output_type": "stream",
     "text": [
      "Index(['rid', 'vid', 'owner_x', 'address', 'zip', 'make', 'model', 'year',\n",
      "       'fuel_type', 'owner_y'],\n",
      "      dtype='object')\n"
     ]
    }
   ],
   "source": [
    "taxi_own_veh = taxi_owners.merge(taxi_veh,on=\"vid\")\n",
    "print(taxi_own_veh.columns)"
   ]
  },
  {
   "cell_type": "markdown",
   "metadata": {},
   "source": [
    "각각에 `owner`가 있어 `_x`,`_y` 이름 붙은 것을 확인 할 수 있다. 이를 보기 쉽게 하기 위해, `_own`, `_veh` 로 바꿔보자.  "
   ]
  },
  {
   "cell_type": "code",
   "execution_count": 26,
   "metadata": {},
   "outputs": [
    {
     "name": "stdout",
     "output_type": "stream",
     "text": [
      "Index(['rid', 'vid', 'owner_own', 'address', 'zip', 'make', 'model', 'year',\n",
      "       'fuel_type', 'owner_veh'],\n",
      "      dtype='object')\n"
     ]
    }
   ],
   "source": [
    "taxi_own_veh = taxi_owners.merge(taxi_veh,on=\"vid\", suffixes= ('_own','_veh'))\n",
    "print(taxi_own_veh.columns)"
   ]
  },
  {
   "cell_type": "markdown",
   "metadata": {},
   "source": [
    "merge된 table을 가지고 어떤 `fuel_type`이 많은 지 확인 해보자.  "
   ]
  },
  {
   "cell_type": "code",
   "execution_count": 27,
   "metadata": {},
   "outputs": [
    {
     "name": "stdout",
     "output_type": "stream",
     "text": [
      "HYBRID                    2792\n",
      "GASOLINE                   611\n",
      "FLEX FUEL                   89\n",
      "COMPRESSED NATURAL GAS      27\n",
      "Name: fuel_type, dtype: int64\n"
     ]
    }
   ],
   "source": [
    "print(taxi_own_veh['fuel_type'].value_counts())"
   ]
  },
  {
   "cell_type": "markdown",
   "metadata": {},
   "source": [
    "`licenses`와 `biz_owners`를 `account`로 merge 한 것을 `licenses_owners`라 하자.  \n",
    "`counted_df`는 `licenses_owners`를 `title`로 group하고 각각의 `title`에 대해 account가 몇 번 나왔는지를 세는 거다.  \n",
    "그리고 `account`를 내림차순으로 `counted_df`를 sort 한 것을 `sorted_df`라 하자.  "
   ]
  },
  {
   "cell_type": "code",
   "execution_count": 28,
   "metadata": {},
   "outputs": [
    {
     "name": "stdout",
     "output_type": "stream",
     "text": [
      "                 account\n",
      "title                   \n",
      "PRESIDENT           6259\n",
      "SECRETARY           5205\n",
      "SOLE PROPRIETOR     1658\n",
      "OTHER               1200\n",
      "VICE PRESIDENT       970\n"
     ]
    }
   ],
   "source": [
    "licenses_owners = licenses.merge(biz_owners, on=\"account\")\n",
    "counted_df = licenses_owners.groupby(\"title\").agg({'account':'count'})\n",
    "sorted_df = counted_df.sort_values(\"account\",ascending = False)\n",
    "\n",
    "print(sorted_df.head())"
   ]
  },
  {
   "cell_type": "code",
   "execution_count": 29,
   "metadata": {},
   "outputs": [
    {
     "name": "stdout",
     "output_type": "stream",
     "text": [
      "  account ward  aid              business              address    zip  \\\n",
      "0  307071    3  743  REGGIE'S BAR & GRILL      2105 S STATE ST  60616   \n",
      "1      10   10  829            HONEYBEERS  13200 S HOUSTON AVE  60633   \n",
      "2      10   10  829            HONEYBEERS  13200 S HOUSTON AVE  60633   \n",
      "3   10002   14  775           CELINA DELI    5089 S ARCHER AVE  60632   \n",
      "4   10002   14  775           CELINA DELI    5089 S ARCHER AVE  60632   \n",
      "\n",
      "  first_name last_name      title  \n",
      "0     ROBERT     GLICK     MEMBER  \n",
      "1      PEARL   SHERMAN  PRESIDENT  \n",
      "2      PEARL   SHERMAN  SECRETARY  \n",
      "3     WALTER    MROZEK    PARTNER  \n",
      "4     CELINA    BYRDAK    PARTNER  \n"
     ]
    }
   ],
   "source": [
    "print(licenses_owners.head())"
   ]
  },
  {
   "cell_type": "markdown",
   "metadata": {},
   "source": [
    "2개 이상의 table을 merge 할 수도 있다.  "
   ]
  },
  {
   "cell_type": "code",
   "execution_count": 30,
   "metadata": {},
   "outputs": [
    {
     "name": "stdout",
     "output_type": "stream",
     "text": [
      "                         income\n",
      "alderman                       \n",
      "Ameya Pawar             66246.0\n",
      "Anthony A. Beale        38206.0\n",
      "Anthony V. Napolitano   82226.0\n",
      "Ariel E. Reyboras       41307.0\n",
      "Brendan Reilly         110215.0\n"
     ]
    }
   ],
   "source": [
    "licenses_zip_ward = licenses.merge(zip_demo, on = \"zip\") \\\n",
    "            \t\t\t.merge(wards, on = \"ward\")\n",
    "print((licenses_zip_ward).groupby(\"alderman\").agg({'income':'median'}).head())"
   ]
  },
  {
   "cell_type": "markdown",
   "metadata": {},
   "source": [
    "`\\`은 뒤의 코드가 이어진다는 뜻이다.  "
   ]
  },
  {
   "cell_type": "markdown",
   "metadata": {},
   "source": [
    "left join은 쉽게 말해 왼쪽 거는 살리고 오른쪽 거는 날리는 거다.  `how`를 통해 방법을 설정하는 것이 가능하다.  "
   ]
  },
  {
   "cell_type": "code",
   "execution_count": 31,
   "metadata": {},
   "outputs": [
    {
     "name": "stdout",
     "output_type": "stream",
     "text": [
      "      id                 title  popularity release_date      budget  \\\n",
      "0    257          Oliver Twist   20.415572   2005-09-23  50000000.0   \n",
      "1  14290  Better Luck Tomorrow    3.877036   2002-01-12         NaN   \n",
      "2  38365             Grown Ups   38.864027   2010-06-24  80000000.0   \n",
      "3   9672              Infamous    3.680896   2006-11-16  13000000.0   \n",
      "4  12819       Alpha and Omega   12.300789   2010-09-17  20000000.0   \n",
      "\n",
      "       revenue  \n",
      "0   42093706.0  \n",
      "1          NaN  \n",
      "2  271430189.0  \n",
      "3    1151330.0  \n",
      "4   39300000.0  \n"
     ]
    }
   ],
   "source": [
    "movies_financials = movies.merge(financials, on = \"id\", how = 'left')\n",
    "print(movies_financials.head())"
   ]
  },
  {
   "cell_type": "code",
   "execution_count": 32,
   "metadata": {},
   "outputs": [
    {
     "name": "stdout",
     "output_type": "stream",
     "text": [
      "1574\n"
     ]
    }
   ],
   "source": [
    "number_of_missing_fin = movies_financials['budget'].isnull().sum()\n",
    "print(number_of_missing_fin)"
   ]
  },
  {
   "cell_type": "code",
   "execution_count": 35,
   "metadata": {},
   "outputs": [
    {
     "name": "stdout",
     "output_type": "stream",
     "text": [
      "         id                 title  popularity release_date\n",
      "0       257          Oliver Twist   20.415572   2005-09-23\n",
      "1     14290  Better Luck Tomorrow    3.877036   2002-01-12\n",
      "2     38365             Grown Ups   38.864027   2010-06-24\n",
      "3      9672              Infamous    3.680896   2006-11-16\n",
      "4     12819       Alpha and Omega   12.300789   2010-09-17\n",
      "...     ...                   ...         ...          ...\n",
      "4798   3089             Red River    5.344815   1948-08-26\n",
      "4799  11934   The Hudsucker Proxy   14.188982   1994-03-11\n",
      "4800  13807                Exiled    8.486390   2006-09-06\n",
      "4801  73873          Albert Nobbs    7.802245   2011-12-21\n",
      "4802  11622   Blast from the Past    8.737058   1999-02-12\n",
      "\n",
      "[4803 rows x 4 columns]\n"
     ]
    }
   ],
   "source": [
    "print(movies)"
   ]
  }
 ],
 "metadata": {
  "interpreter": {
   "hash": "cc5f70855ac006f3de45a3cc3b9e7d8d53845e50458809cb162b0174266dec97"
  },
  "kernelspec": {
   "display_name": "Python 3.9.7 64-bit ('base': conda)",
   "language": "python",
   "name": "python3"
  },
  "language_info": {
   "codemirror_mode": {
    "name": "ipython",
    "version": 3
   },
   "file_extension": ".py",
   "mimetype": "text/x-python",
   "name": "python",
   "nbconvert_exporter": "python",
   "pygments_lexer": "ipython3",
   "version": "3.9.7"
  },
  "orig_nbformat": 4
 },
 "nbformat": 4,
 "nbformat_minor": 2
}
