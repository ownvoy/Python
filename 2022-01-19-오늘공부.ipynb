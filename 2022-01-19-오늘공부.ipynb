{
 "cells": [
  {
   "cell_type": "markdown",
   "metadata": {},
   "source": [
    "## 6 튜플과 딕셔너리"
   ]
  },
  {
   "cell_type": "markdown",
   "metadata": {},
   "source": [
    "### 6-1 튜플이란?\n",
    "\n",
    "파이썬에서 튜플은 리스트와 많은 부분이 유사하고 사용법도 거의 같다. 튜플과 리스트의 차이점은 다음과 같다.  \n",
    "\n",
    "- 튜플에서는 리스트의 `[]`대신 `()`를 사용한다.  \n",
    "- 튜플에서는 리스트와 달리 요소의 <span style=\"color:orange\">수정과 추가가 불가능하다.</span>  \n",
    "\n",
    "__튜플 생성하기__\n",
    "튜플을 생성하려면 다음과 같이 `()`를 이용하거나 `tuple()`를 이용한다.  "
   ]
  },
  {
   "cell_type": "code",
   "execution_count": 1,
   "metadata": {},
   "outputs": [
    {
     "name": "stdout",
     "output_type": "stream",
     "text": [
      "('rabbit', 'turtle', 'lion', 'fox')\n"
     ]
    }
   ],
   "source": [
    "animals = (\"rabbit\",\"turtle\",\"lion\",\"fox\")\n",
    "print(animals)"
   ]
  },
  {
   "cell_type": "code",
   "execution_count": 2,
   "metadata": {},
   "outputs": [
    {
     "name": "stdout",
     "output_type": "stream",
     "text": [
      "(0, 1, 2, 3, 4, 5, 6, 7, 8, 9)\n"
     ]
    }
   ],
   "source": [
    "numbers = tuple(range(10))\n",
    "print(numbers)"
   ]
  },
  {
   "cell_type": "markdown",
   "metadata": {},
   "source": [
    "__튜플 요소 추출하기__\n",
    "\n",
    "튜플에서는 리스트에서와 같은 방법으로 인덱스를 이용하여 요소를 추출 할 수 있다.  "
   ]
  },
  {
   "cell_type": "code",
   "execution_count": 3,
   "metadata": {},
   "outputs": [
    {
     "name": "stdout",
     "output_type": "stream",
     "text": [
      "(10, 11, 12, 13, 14, 15, 16, 17, 18, 19, 20)\n",
      "10\n",
      "(12, 13, 14)\n",
      "(12, 13, 14, 15, 16, 17, 18, 19, 20)\n",
      "(10, 11, 12, 13, 14)\n",
      "(20, 19, 18, 17, 16, 15, 14, 13, 12, 11, 10)\n"
     ]
    }
   ],
   "source": [
    "n = tuple(range(10,21))\n",
    "print(n)\n",
    "\n",
    "print(n[0])\n",
    "print(n[2:5])\n",
    "print(n[2:])\n",
    "print(n[:5])\n",
    "print(n[::-1])"
   ]
  },
  {
   "cell_type": "markdown",
   "metadata": {},
   "source": [
    "__튜플 길이 구하기__\n",
    "\n",
    "`len()`를 이용하여 길이를 구할 수 있다.  "
   ]
  },
  {
   "cell_type": "code",
   "execution_count": 4,
   "metadata": {},
   "outputs": [
    {
     "data": {
      "text/plain": [
       "11"
      ]
     },
     "execution_count": 4,
     "metadata": {},
     "output_type": "execute_result"
    }
   ],
   "source": [
    "len(n)"
   ]
  },
  {
   "cell_type": "markdown",
   "metadata": {},
   "source": [
    "__튜플 병합하기__\n",
    "\n",
    "`+`를 이용하여 서로 병합할 수 있다.  "
   ]
  },
  {
   "cell_type": "code",
   "execution_count": 6,
   "metadata": {},
   "outputs": [
    {
     "name": "stdout",
     "output_type": "stream",
     "text": [
      "(40, 50, 60, 10, 20, 30)\n"
     ]
    }
   ],
   "source": [
    "tup1= (10,20,30)\n",
    "tup2= (40,50,60)\n",
    "tup3= tup2 + tup1\n",
    "print(tup3)"
   ]
  },
  {
   "cell_type": "markdown",
   "metadata": {},
   "source": [
    "__튜플로 구구단표를 만들어라!__"
   ]
  },
  {
   "cell_type": "code",
   "execution_count": 8,
   "metadata": {},
   "outputs": [
    {
     "name": "stdout",
     "output_type": "stream",
     "text": [
      "2단\n",
      "2 x 1= 2\n",
      "2 x 2= 4\n",
      "2 x 3= 6\n",
      "2 x 4= 8\n",
      "2 x 5= 10\n",
      "2 x 6= 12\n",
      "2 x 7= 14\n",
      "2 x 8= 16\n",
      "2 x 9= 18\n",
      "3단\n",
      "3 x 1= 3\n",
      "3 x 2= 6\n",
      "3 x 3= 9\n",
      "3 x 4= 12\n",
      "3 x 5= 15\n",
      "3 x 6= 18\n",
      "3 x 7= 21\n",
      "3 x 8= 24\n",
      "3 x 9= 27\n",
      "4단\n",
      "4 x 1= 4\n",
      "4 x 2= 8\n",
      "4 x 3= 12\n",
      "4 x 4= 16\n",
      "4 x 5= 20\n",
      "4 x 6= 24\n",
      "4 x 7= 28\n",
      "4 x 8= 32\n",
      "4 x 9= 36\n",
      "5단\n",
      "5 x 1= 5\n",
      "5 x 2= 10\n",
      "5 x 3= 15\n",
      "5 x 4= 20\n",
      "5 x 5= 25\n",
      "5 x 6= 30\n",
      "5 x 7= 35\n",
      "5 x 8= 40\n",
      "5 x 9= 45\n",
      "6단\n",
      "6 x 1= 6\n",
      "6 x 2= 12\n",
      "6 x 3= 18\n",
      "6 x 4= 24\n",
      "6 x 5= 30\n",
      "6 x 6= 36\n",
      "6 x 7= 42\n",
      "6 x 8= 48\n",
      "6 x 9= 54\n",
      "7단\n",
      "7 x 1= 7\n",
      "7 x 2= 14\n",
      "7 x 3= 21\n",
      "7 x 4= 28\n",
      "7 x 5= 35\n",
      "7 x 6= 42\n",
      "7 x 7= 49\n",
      "7 x 8= 56\n",
      "7 x 9= 63\n",
      "8단\n",
      "8 x 1= 8\n",
      "8 x 2= 16\n",
      "8 x 3= 24\n",
      "8 x 4= 32\n",
      "8 x 5= 40\n",
      "8 x 6= 48\n",
      "8 x 7= 56\n",
      "8 x 8= 64\n",
      "8 x 9= 72\n",
      "9단\n",
      "9 x 1= 9\n",
      "9 x 2= 18\n",
      "9 x 3= 27\n",
      "9 x 4= 36\n",
      "9 x 5= 45\n",
      "9 x 6= 54\n",
      "9 x 7= 63\n",
      "9 x 8= 72\n",
      "9 x 9= 81\n"
     ]
    }
   ],
   "source": [
    "dans = (2,3,4,5,6,7,8,9)\n",
    "\n",
    "for dan in dans:\n",
    "  print(str(dan)+ \"단\")\n",
    "  for i in range(1,10):\n",
    "    print(\"%d x %d= %d\"%(dan, i , dan*i))"
   ]
  },
  {
   "cell_type": "markdown",
   "metadata": {},
   "source": [
    "### 6-2 딕셔너리\n",
    "\n",
    "딕셔너리는 인덱스를 의미하는 key와 자료의 내용인 value를 이용하여 데이터를 관리한다.  \n",
    "딕셔너리는 `{}`를 사용한다.  "
   ]
  },
  {
   "cell_type": "markdown",
   "metadata": {},
   "source": [
    "__딕셔너리 생성하기__  \n",
    "\n",
    "`{}`나 `dict()`를 이용하여 딕셔너리를 만들 수 있다.  "
   ]
  },
  {
   "cell_type": "code",
   "execution_count": 9,
   "metadata": {},
   "outputs": [
    {
     "name": "stdout",
     "output_type": "stream",
     "text": [
      "{'name': '황예린', 'age': 22}\n"
     ]
    }
   ],
   "source": [
    "\n",
    "member={\"name\":\"황예린\",\"age\":22}\n",
    "print(member)"
   ]
  },
  {
   "cell_type": "code",
   "execution_count": 11,
   "metadata": {},
   "outputs": [
    {
     "name": "stdout",
     "output_type": "stream",
     "text": [
      "{'국어': 80, '영어': 70, '수학': 34}\n"
     ]
    }
   ],
   "source": [
    "score = dict([(\"국어\",80),(\"영어\",70),(\"수학\",34)])\n",
    "print(score)"
   ]
  },
  {
   "cell_type": "markdown",
   "metadata": {},
   "source": [
    "value를 [\"Key(variable)\"] 형식으로 뽑아온다. "
   ]
  },
  {
   "cell_type": "code",
   "execution_count": 12,
   "metadata": {},
   "outputs": [
    {
     "name": "stdout",
     "output_type": "stream",
     "text": [
      "80\n",
      "34\n"
     ]
    }
   ],
   "source": [
    "print(score[\"국어\"])\n",
    "print(score[\"수학\"])"
   ]
  },
  {
   "cell_type": "markdown",
   "metadata": {},
   "source": [
    "### 6-3 딕셔너리 요소 변환 \n",
    "\n",
    "딕셔너리에서 요소를 추가, 요소를 수정, 요소를 삭제하는 방법에 대해 알아 본다.  "
   ]
  },
  {
   "cell_type": "markdown",
   "metadata": {},
   "source": [
    "__딕셔너리 요소 추가하기__"
   ]
  },
  {
   "cell_type": "code",
   "execution_count": 14,
   "metadata": {},
   "outputs": [
    {
     "name": "stdout",
     "output_type": "stream",
     "text": [
      "{'국어': 80, '영어': 70, '수학': 34, '윤리': 100}\n"
     ]
    }
   ],
   "source": [
    "score[\"윤리\"] = 100\n",
    "print(score)"
   ]
  },
  {
   "cell_type": "markdown",
   "metadata": {},
   "source": [
    "__딕셔너리 요소 수정하기__"
   ]
  },
  {
   "cell_type": "code",
   "execution_count": 16,
   "metadata": {},
   "outputs": [
    {
     "name": "stdout",
     "output_type": "stream",
     "text": [
      "{'국어': 90, '영어': 70, '수학': 34, '윤리': 100}\n"
     ]
    }
   ],
   "source": [
    "score[\"국어\"] = 90\n",
    "print(score) "
   ]
  },
  {
   "cell_type": "markdown",
   "metadata": {},
   "source": [
    "__딕셔너리 요소 삭제하기__\n",
    "\n",
    "딕셔너리의 `pop()` 매소드를 이용하여 딕셔너리의 요소를 삭제한다.  \n"
   ]
  },
  {
   "cell_type": "code",
   "execution_count": 17,
   "metadata": {},
   "outputs": [
    {
     "name": "stdout",
     "output_type": "stream",
     "text": [
      "90\n",
      "{'영어': 70, '수학': 34, '윤리': 100}\n"
     ]
    }
   ],
   "source": [
    "x = score.pop(\"국어\")\n",
    "print(x)\n",
    "print(score)"
   ]
  },
  {
   "cell_type": "markdown",
   "metadata": {},
   "source": [
    "`clear()` 매소드는 딕셔너리의 전체 요소를 삭제한다.  "
   ]
  },
  {
   "cell_type": "code",
   "execution_count": 18,
   "metadata": {},
   "outputs": [
    {
     "name": "stdout",
     "output_type": "stream",
     "text": [
      "{}\n"
     ]
    }
   ],
   "source": [
    "score.clear()\n",
    "print(score)"
   ]
  },
  {
   "cell_type": "markdown",
   "metadata": {},
   "source": [
    "### 6-4 for문과 딕셔너리\n"
   ]
  },
  {
   "cell_type": "code",
   "execution_count": 19,
   "metadata": {},
   "outputs": [
    {
     "name": "stdout",
     "output_type": "stream",
     "text": [
      "서울 지역번호: 02\n",
      "부산 지역번호: 051\n",
      "대구 지역번호: 053\n",
      "광주 지역번호: 062\n"
     ]
    }
   ],
   "source": [
    "area_code = {\"서울\":\"02\", \"부산\":\"051\",\"대구\":\"053\",\"광주\":\"062\"}\n",
    "\n",
    "for key in area_code:\n",
    "  print(\"%s 지역번호: %s\"% (key,area_code[key]))"
   ]
  },
  {
   "cell_type": "markdown",
   "metadata": {},
   "source": [
    "__딕셔너리로 성적 합계 평균을 구하라!__"
   ]
  },
  {
   "cell_type": "code",
   "execution_count": 30,
   "metadata": {},
   "outputs": [
    {
     "name": "stdout",
     "output_type": "stream",
     "text": [
      "합계= 197\n",
      "평균= 65.66666666666667\n"
     ]
    }
   ],
   "source": [
    "scores = {\"김수린\":87, \"박수정\":34, \"박윤서\":76}\n",
    "\n",
    "sum = 0\n",
    "for score in scores:\n",
    "  sum= sum+ scores[score]\n",
    "  \n",
    "print(\"합계=\",sum)\n",
    "print(\"평균=\",sum/len(scores))"
   ]
  },
  {
   "cell_type": "markdown",
   "metadata": {},
   "source": [
    "__딕셔너리로 정보 접근에르 제어하라__"
   ]
  },
  {
   "cell_type": "code",
   "execution_count": 35,
   "metadata": {},
   "outputs": [
    {
     "name": "stdout",
     "output_type": "stream",
     "text": [
      "다시 시도해주세요\n"
     ]
    }
   ],
   "source": [
    "admin_info={\"ID\":\"admin\",\"password\":\"12345\"}\n",
    "input_id=input(\"ID를 입력하세요\")\n",
    "input_password= input(\"Password를 입력하세요\")\n",
    "\n",
    "if admin_info[\"ID\"] == input_id and admin_info[\"password\"]== input_password:\n",
    "  print(\"환영합니다\")\n",
    "else:\n",
    "  print(\"다시 시도해주세요\")"
   ]
  }
 ],
 "metadata": {
  "interpreter": {
   "hash": "cc5f70855ac006f3de45a3cc3b9e7d8d53845e50458809cb162b0174266dec97"
  },
  "kernelspec": {
   "display_name": "Python 3.9.7 64-bit ('base': conda)",
   "language": "python",
   "name": "python3"
  },
  "language_info": {
   "codemirror_mode": {
    "name": "ipython",
    "version": 3
   },
   "file_extension": ".py",
   "mimetype": "text/x-python",
   "name": "python",
   "nbconvert_exporter": "python",
   "pygments_lexer": "ipython3",
   "version": "3.10.1"
  },
  "orig_nbformat": 4
 },
 "nbformat": 4,
 "nbformat_minor": 2
}
