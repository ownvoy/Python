{
 "cells": [
  {
   "cell_type": "markdown",
   "metadata": {},
   "source": [
    "## 5 리스트\n",
    "\n",
    "리스트는 여러개의 테이터 값을 하나의 변수, 즉 리스트에 담을 수 있는 데이터 구조이다.  "
   ]
  },
  {
   "cell_type": "markdown",
   "metadata": {},
   "source": [
    "### 5-1 리스트란?\n",
    "#### 5-1-1 리스트 생성하기.  \n",
    "리스트를 생성할 때는 다음 예제에서와 같이 대괄호([])나 `list()`를 사용한다.  "
   ]
  },
  {
   "cell_type": "code",
   "execution_count": 1,
   "metadata": {},
   "outputs": [
    {
     "name": "stdout",
     "output_type": "stream",
     "text": [
      "[3, 15, 16, 'peanut butter']\n"
     ]
    }
   ],
   "source": [
    "list2 = [3, 15, 16, \"peanut butter\"]\n",
    "print(list2)"
   ]
  },
  {
   "cell_type": "code",
   "execution_count": 7,
   "metadata": {},
   "outputs": [
    {
     "name": "stdout",
     "output_type": "stream",
     "text": [
      "[1, 3, 5, 7, 9, 11, 13, 15, 17, 19]\n"
     ]
    }
   ],
   "source": [
    "list3 = list(range(1,21,2))\n",
    "print(list3)"
   ]
  },
  {
   "cell_type": "markdown",
   "metadata": {},
   "source": [
    "#### 5-1-2 리스트에서 요소 추출하기\n",
    "\n"
   ]
  },
  {
   "cell_type": "code",
   "execution_count": 11,
   "metadata": {},
   "outputs": [
    {
     "name": "stdout",
     "output_type": "stream",
     "text": [
      "orange\n",
      "['orange', 'green']\n",
      "['red', 'orange', 'green']\n"
     ]
    }
   ],
   "source": [
    "color = [\"red\", \"orange\",\"green\",\"blue\"]\n",
    "print(color[1])\n",
    "print(color[1:3])\n",
    "print(color[-4:-1])\n"
   ]
  },
  {
   "cell_type": "markdown",
   "metadata": {},
   "source": [
    "### 5-2 반복문과 리스트"
   ]
  },
  {
   "cell_type": "markdown",
   "metadata": {},
   "source": [
    "#### 5-2-1 for문에서 리스트 사용하기"
   ]
  },
  {
   "cell_type": "code",
   "execution_count": 13,
   "metadata": {},
   "outputs": [
    {
     "name": "stdout",
     "output_type": "stream",
     "text": [
      "I like red.\n",
      "I like orange.\n",
      "I like green.\n",
      "I like blue.\n"
     ]
    }
   ],
   "source": [
    "colors = [\"red\", \"orange\",\"green\",\"blue\"]\n",
    "for x in colors:\n",
    "  print(\"I like %s.\"%x) "
   ]
  },
  {
   "cell_type": "markdown",
   "metadata": {},
   "source": [
    "`range()`와도 같이 쓸 수 있다.  "
   ]
  },
  {
   "cell_type": "code",
   "execution_count": 14,
   "metadata": {},
   "outputs": [
    {
     "name": "stdout",
     "output_type": "stream",
     "text": [
      "I like red\n",
      "I like orange\n",
      "I like green\n",
      "I like blue\n"
     ]
    }
   ],
   "source": [
    "colors = [\"red\", \"orange\",\"green\",\"blue\"]\n",
    "\n",
    "n = len(colors)\n",
    "for x in range(0,n):\n",
    "  print(\"I like %s\"% color[x])"
   ]
  },
  {
   "cell_type": "markdown",
   "metadata": {},
   "source": [
    "#### 5-2-2 while문에서 리스트 사용하기"
   ]
  },
  {
   "cell_type": "code",
   "execution_count": 17,
   "metadata": {},
   "outputs": [
    {
     "name": "stdout",
     "output_type": "stream",
     "text": [
      "red\n",
      "orange\n",
      "green\n",
      "blue\n"
     ]
    }
   ],
   "source": [
    "colors = [\"red\", \"orange\",\"green\",\"blue\"]\n",
    "\n",
    "i = 0\n",
    "while i < len(colors):\n",
    "  print(colors[i])\n",
    "  \n",
    "  i= i+1"
   ]
  },
  {
   "cell_type": "markdown",
   "metadata": {},
   "source": [
    "### 5-3 리스트 요소 변환"
   ]
  },
  {
   "cell_type": "markdown",
   "metadata": {},
   "source": [
    "#### 5-3-1 리스트 요소 수정하기  "
   ]
  },
  {
   "cell_type": "code",
   "execution_count": 18,
   "metadata": {},
   "outputs": [
    {
     "name": "stdout",
     "output_type": "stream",
     "text": [
      "['purple', 'orange', 'green', 'blue']\n"
     ]
    }
   ],
   "source": [
    "colors = [\"red\", \"orange\",\"green\",\"blue\"]\n",
    "\n",
    "colors[0]=\"purple\"\n",
    "print(colors)"
   ]
  },
  {
   "cell_type": "markdown",
   "metadata": {},
   "source": [
    "### 5-3-2 리스트 요소 추가하기\n",
    "리스트의 `append()`를 이용하면 리스트의 제일 뒤에 새로운 요소를 추가할 수 있다.  "
   ]
  },
  {
   "cell_type": "code",
   "execution_count": 19,
   "metadata": {},
   "outputs": [
    {
     "name": "stdout",
     "output_type": "stream",
     "text": [
      "[5, 3, 12, 9, 2, 10]\n"
     ]
    }
   ],
   "source": [
    "arr= [5,3,12,9,2]\n",
    "arr.append(10)\n",
    "print(arr)"
   ]
  },
  {
   "cell_type": "markdown",
   "metadata": {},
   "source": [
    "위에서 `append()`를 사용할 때는 `print()`, `input()` 등 일반적인 함수와는 달리 리스트명(`arr`) 다음에 `.`을 찍은 다음 함수명을 사용하였다. `append()`는 리스트 내에서만 사용 가능한데 이러한 함수를 `Method`라고 부른다.  "
   ]
  },
  {
   "cell_type": "code",
   "execution_count": 22,
   "metadata": {},
   "outputs": [
    {
     "name": "stdout",
     "output_type": "stream",
     "text": [
      "[2, 323, 432, 2341]\n"
     ]
    }
   ],
   "source": [
    "scores = []\n",
    "while True:\n",
    "  score = int(input(\"성적을 입력하세요(종료=-1):\"))\n",
    "  if score == -1:\n",
    "    break\n",
    "  else:\n",
    "    scores.append(score)\n",
    "\n",
    "print(scores)"
   ]
  },
  {
   "cell_type": "markdown",
   "metadata": {},
   "source": [
    "#### 5-3-3 리스트 요소 삽입하기\n",
    "\n",
    "리스트의 `insert()`는 리스트의 특정 위치에 새로운 요소를 삽입할 때 사용된다."
   ]
  },
  {
   "cell_type": "code",
   "execution_count": 24,
   "metadata": {},
   "outputs": [
    {
     "name": "stdout",
     "output_type": "stream",
     "text": [
      "['red', 'skyblue', 'orange', 'green', 'blue']\n"
     ]
    }
   ],
   "source": [
    "colors = [\"red\", \"orange\",\"green\",\"blue\"]\n",
    "colors.insert(1, \"skyblue\")\n",
    "print(colors)"
   ]
  },
  {
   "cell_type": "markdown",
   "metadata": {},
   "source": [
    "### 5-3-4 리스트 요소 삭제하기\n",
    "리스트에서 요소를 삭제하는 데에는 리스트의 `remove()`, `pop()`, `clear()`가 사용된다.  \n",
    "\n",
    "__`remove()`로 리스트의 요소 삭제__\n"
   ]
  },
  {
   "cell_type": "code",
   "execution_count": 25,
   "metadata": {},
   "outputs": [
    {
     "name": "stdout",
     "output_type": "stream",
     "text": [
      "['red', 'green', 'blue']\n"
     ]
    }
   ],
   "source": [
    "colors = [\"red\", \"orange\",\"green\",\"blue\"]\n",
    "colors.remove(\"orange\")\n",
    "print(colors)"
   ]
  },
  {
   "cell_type": "markdown",
   "metadata": {},
   "source": [
    "__`pop()`를 이용하여 리스트의 요소 삭제__"
   ]
  },
  {
   "cell_type": "code",
   "execution_count": 27,
   "metadata": {},
   "outputs": [
    {
     "name": "stdout",
     "output_type": "stream",
     "text": [
      "green\n",
      "['red', 'orange', 'blue']\n"
     ]
    }
   ],
   "source": [
    "colors = [\"red\", \"orange\",\"green\",\"blue\"]\n",
    "\n",
    "x= colors.pop(2)\n",
    "print(x)\n",
    "print(colors)"
   ]
  },
  {
   "cell_type": "markdown",
   "metadata": {},
   "source": [
    "`clear()`로 리스트의 모든 요소 삭제"
   ]
  },
  {
   "cell_type": "code",
   "execution_count": 28,
   "metadata": {},
   "outputs": [
    {
     "name": "stdout",
     "output_type": "stream",
     "text": [
      "[]\n"
     ]
    }
   ],
   "source": [
    "colors = [\"red\", \"orange\",\"green\",\"blue\"]\n",
    "colors.clear()\n",
    "print(colors)"
   ]
  },
  {
   "cell_type": "markdown",
   "metadata": {},
   "source": [
    "__1~20의 양의 정수 리스트를 생성하라__"
   ]
  },
  {
   "cell_type": "code",
   "execution_count": 31,
   "metadata": {},
   "outputs": [
    {
     "name": "stdout",
     "output_type": "stream",
     "text": [
      "[1, 2, 3, 4, 5, 6, 7, 8, 9, 10, 11, 12, 13, 14, 15, 16, 17, 18, 19, 20]\n"
     ]
    }
   ],
   "source": [
    "numbers = []\n",
    "for x in range(1,21):\n",
    "  numbers.append(x)\n",
    "\n",
    "print(numbers)"
   ]
  },
  {
   "cell_type": "code",
   "execution_count": 33,
   "metadata": {},
   "outputs": [
    {
     "name": "stdout",
     "output_type": "stream",
     "text": [
      "[1, 2, 3, 4, 5, 6, 7, 8, 9, 10, 11, 12, 13, 14, 15, 16, 17, 18, 19, 20]\n"
     ]
    }
   ],
   "source": [
    "numbers = list(range(1,21))\n",
    "print(numbers)"
   ]
  },
  {
   "cell_type": "markdown",
   "metadata": {},
   "source": [
    "__1~20의 양의 정수에서 짝수 번쨰 요소를 출력하라__"
   ]
  },
  {
   "cell_type": "code",
   "execution_count": 34,
   "metadata": {},
   "outputs": [
    {
     "name": "stdout",
     "output_type": "stream",
     "text": [
      "[2, 4, 6, 8, 10, 12, 14, 16, 18, 20]\n"
     ]
    }
   ],
   "source": [
    "numbers= list(range(2,21,2))\n",
    "print(numbers)"
   ]
  },
  {
   "cell_type": "markdown",
   "metadata": {},
   "source": [
    "__빈 리스트에 요소를 추가하라__  \n",
    "다음은 빈 리스트를 만든 다음 10~20의 양의 정수를 하나씩 추가하는 프로그램이다.  "
   ]
  },
  {
   "cell_type": "code",
   "execution_count": 35,
   "metadata": {},
   "outputs": [
    {
     "name": "stdout",
     "output_type": "stream",
     "text": [
      "[10, 12, 14, 16, 18, 20]\n"
     ]
    }
   ],
   "source": [
    "numbers=[]\n",
    "for x in range(10,21,2):\n",
    "  numbers.append(x)\n",
    "print(numbers)0"
   ]
  },
  {
   "cell_type": "markdown",
   "metadata": {},
   "source": [
    "### 5-4 리스트 다루기"
   ]
  },
  {
   "cell_type": "markdown",
   "metadata": {},
   "source": [
    "#### 5-4-1 리스트 병합하기\n",
    "\n",
    "두 개의 리스트를 서로 병합하려면 `+`를 사용하면 된다.  "
   ]
  },
  {
   "cell_type": "code",
   "execution_count": 36,
   "metadata": {},
   "outputs": [
    {
     "name": "stdout",
     "output_type": "stream",
     "text": [
      "[1, 2]\n"
     ]
    }
   ],
   "source": [
    "N1=[1]\n",
    "N2=[2]\n",
    "N3= N1 + N2\n",
    "print(N3)"
   ]
  },
  {
   "cell_type": "markdown",
   "metadata": {},
   "source": [
    "#### 5-4-2 리스트 합계 구하기\n",
    "\n",
    "리스트에서 요소들의 합계를 구할 떄에는 `sum()`를 이용한다.  "
   ]
  },
  {
   "cell_type": "code",
   "execution_count": 62,
   "metadata": {},
   "outputs": [
    {
     "ename": "TypeError",
     "evalue": "'int' object is not callable",
     "output_type": "error",
     "traceback": [
      "\u001b[1;31m---------------------------------------------------------------------------\u001b[0m",
      "\u001b[1;31mTypeError\u001b[0m                                 Traceback (most recent call last)",
      "\u001b[1;32m~\\AppData\\Local\\Temp/ipykernel_13300/600551499.py\u001b[0m in \u001b[0;36m<module>\u001b[1;34m\u001b[0m\n\u001b[0;32m      1\u001b[0m \u001b[0mscores\u001b[0m \u001b[1;33m=\u001b[0m \u001b[1;33m[\u001b[0m\u001b[1;36m80\u001b[0m\u001b[1;33m,\u001b[0m\u001b[1;36m90\u001b[0m\u001b[1;33m,\u001b[0m\u001b[1;36m83\u001b[0m\u001b[1;33m,\u001b[0m\u001b[1;36m23\u001b[0m\u001b[1;33m,\u001b[0m\u001b[1;36m54\u001b[0m\u001b[1;33m]\u001b[0m\u001b[1;33m\u001b[0m\u001b[1;33m\u001b[0m\u001b[0m\n\u001b[0;32m      2\u001b[0m \u001b[1;33m\u001b[0m\u001b[0m\n\u001b[1;32m----> 3\u001b[1;33m \u001b[0msu1\u001b[0m \u001b[1;33m=\u001b[0m \u001b[0msum\u001b[0m\u001b[1;33m(\u001b[0m\u001b[0mscores\u001b[0m\u001b[1;33m)\u001b[0m\u001b[1;33m\u001b[0m\u001b[1;33m\u001b[0m\u001b[0m\n\u001b[0m\u001b[0;32m      4\u001b[0m \u001b[0mavg\u001b[0m \u001b[1;33m=\u001b[0m \u001b[0msu1\u001b[0m\u001b[1;33m/\u001b[0m\u001b[0mlen\u001b[0m\u001b[1;33m(\u001b[0m\u001b[0mscores\u001b[0m\u001b[1;33m)\u001b[0m\u001b[1;33m\u001b[0m\u001b[1;33m\u001b[0m\u001b[0m\n\u001b[0;32m      5\u001b[0m \u001b[1;33m\u001b[0m\u001b[0m\n",
      "\u001b[1;31mTypeError\u001b[0m: 'int' object is not callable"
     ]
    }
   ],
   "source": [
    "scores = [80,90,83,23,54]\n",
    "\n",
    "su1 = sum(scores)\n",
    "avg = su1/len(scores)\n",
    "\n",
    "print(\"합계:\",su1)\n",
    "print(\"평균:\",avg)"
   ]
  },
  {
   "cell_type": "markdown",
   "metadata": {},
   "source": [
    "#### 5-4-3  리스트 순서 반대로 하기\n",
    "\n",
    "리스트에서 요소들의 순서를 반대로 할 떄에는 리스트의 `reverse()`를 이용한다.  "
   ]
  },
  {
   "cell_type": "code",
   "execution_count": 63,
   "metadata": {},
   "outputs": [
    {
     "name": "stdout",
     "output_type": "stream",
     "text": [
      "[54, 23, 83, 90, 80]\n"
     ]
    }
   ],
   "source": [
    "scores = [80,90,83,23,54]\n",
    "scores.reverse()\n",
    "print(scores)"
   ]
  },
  {
   "cell_type": "markdown",
   "metadata": {},
   "source": [
    "#### 5-4-4 리스트 복사하기\n",
    "`copy()`는 기존의 리스트를 복사하여 새로운 리스트를 생성한다.  "
   ]
  },
  {
   "cell_type": "code",
   "execution_count": 65,
   "metadata": {},
   "outputs": [
    {
     "name": "stdout",
     "output_type": "stream",
     "text": [
      "[80, 90, 83, 23, 54]\n"
     ]
    }
   ],
   "source": [
    "scores = [80,90,83,23,54]\n",
    "x= scores.copy()\n",
    "print(x)"
   ]
  },
  {
   "cell_type": "markdown",
   "metadata": {},
   "source": [
    "#### 5-4-4 리스트 정렬하기\n",
    "\n",
    "`sort()`는 리스트 내의 요소들을 오름차순으로 정렬한다.  "
   ]
  },
  {
   "cell_type": "code",
   "execution_count": 66,
   "metadata": {},
   "outputs": [
    {
     "name": "stdout",
     "output_type": "stream",
     "text": [
      "[23, 54, 80, 83, 90]\n"
     ]
    }
   ],
   "source": [
    "scores = [80,90,83,23,54]\n",
    "scores.sort()\n",
    "print(scores)"
   ]
  },
  {
   "cell_type": "markdown",
   "metadata": {},
   "source": [
    "내림차순으로 정렬하려면, `sort`에 `reverse = True`를 쓰면 된다.  "
   ]
  },
  {
   "cell_type": "code",
   "execution_count": 68,
   "metadata": {},
   "outputs": [
    {
     "name": "stdout",
     "output_type": "stream",
     "text": [
      "[90, 83, 80, 54, 23]\n"
     ]
    }
   ],
   "source": [
    "scores = [80,90,83,23,54]\n",
    "scores.sort(reverse= True)\n",
    "print(scores)"
   ]
  },
  {
   "cell_type": "markdown",
   "metadata": {},
   "source": [
    "### 5-5 문자열과 리스트"
   ]
  },
  {
   "cell_type": "markdown",
   "metadata": {},
   "source": [
    "#### 5-5-1 문자열 찾기\n",
    "\n",
    "다음은 `find()`를 이용하여 문자열 내에서 특정 문자열을 찾는 예이다.  "
   ]
  },
  {
   "cell_type": "code",
   "execution_count": 69,
   "metadata": {},
   "outputs": [
    {
     "name": "stdout",
     "output_type": "stream",
     "text": [
      "0\n"
     ]
    }
   ],
   "source": [
    "string1 = \"peanut butter\"\n",
    "x=string1.find(\"peanut\")\n",
    "print(x)"
   ]
  },
  {
   "cell_type": "markdown",
   "metadata": {},
   "source": [
    "`string1`에서 \"peanut\"이 시작되는 p의 번호를 의미한다.  "
   ]
  },
  {
   "cell_type": "markdown",
   "metadata": {},
   "source": [
    "#### 5-5-2 문자열 치환하기\n",
    "`replace()`를 이용하여 문자열 내에 있는 특정 문자열을 다른 문자열로 치환하는 데 사용 된다.  "
   ]
  },
  {
   "cell_type": "code",
   "execution_count": 72,
   "metadata": {},
   "outputs": [
    {
     "name": "stdout",
     "output_type": "stream",
     "text": [
      "kai butter\n"
     ]
    }
   ],
   "source": [
    "string1 = \"peanut butter\"\n",
    "x=string1.replace(\"peanut\",\"kai\")\n",
    "print(x)"
   ]
  },
  {
   "cell_type": "markdown",
   "metadata": {},
   "source": [
    "#### 5-5-3 문자열 쪼개기\n",
    "`split()`은 문자열에 특정 문자를 기준으로 문자열을 분리하는 데 사용된다.  "
   ]
  },
  {
   "cell_type": "code",
   "execution_count": 75,
   "metadata": {},
   "outputs": [
    {
     "name": "stdout",
     "output_type": "stream",
     "text": [
      "['That', 'is', 'irresponsible', 'delight']\n"
     ]
    }
   ],
   "source": [
    "quote= \"That is irresponsible delight\"\n",
    "quote1= quote.split(\" \")\n",
    "print(quote1)"
   ]
  },
  {
   "cell_type": "code",
   "execution_count": 76,
   "metadata": {},
   "outputs": [
    {
     "name": "stdout",
     "output_type": "stream",
     "text": [
      "['That', 'is', 'irresponsible', 'delight']\n",
      "quote1[0]: That\n",
      "quote1[1]: is\n",
      "quote1[2]: irresponsible\n",
      "quote1[3]: delight\n"
     ]
    }
   ],
   "source": [
    "quote= \"That is irresponsible delight\"\n",
    "quote1= quote.split(\" \")\n",
    "print(quote1)\n",
    "\n",
    "for x in range(0,len(quote1)):\n",
    "  print(\"quote1[%d]: %s\"%(x,quote1[x]))"
   ]
  },
  {
   "cell_type": "markdown",
   "metadata": {},
   "source": [
    "#### 5-5-4 리스트 문자열로 변환하기\n",
    "\n",
    "문자열의 `join()`은 리스트의 요소들을 하나로 묶어서 문자열로 변환하는 데 사용된다.  "
   ]
  },
  {
   "cell_type": "code",
   "execution_count": 79,
   "metadata": {},
   "outputs": [
    {
     "name": "stdout",
     "output_type": "stream",
     "text": [
      "red/orange/green/blue\n"
     ]
    }
   ],
   "source": [
    "colors = [\"red\", \"orange\",\"green\",\"blue\"]\n",
    "x=\"/\".join(colors)\n",
    "print(x)"
   ]
  },
  {
   "cell_type": "code",
   "execution_count": 80,
   "metadata": {},
   "outputs": [
    {
     "name": "stdout",
     "output_type": "stream",
     "text": [
      "red orange green blue\n"
     ]
    }
   ],
   "source": [
    "colors = [\"red\", \"orange\",\"green\",\"blue\"]\n",
    "x=\" \".join(colors)\n",
    "print(x)"
   ]
  },
  {
   "cell_type": "markdown",
   "metadata": {},
   "source": [
    "#### 5-5-5 리스트 문자열에서 하이픈 삭제하기"
   ]
  },
  {
   "cell_type": "code",
   "execution_count": 83,
   "metadata": {},
   "outputs": [
    {
     "name": "stdout",
     "output_type": "stream",
     "text": [
      "['01034241234', '01058201843', '01048291351']\n"
     ]
    }
   ],
   "source": [
    "phonenum=[\"010-3424-1234\",\"010-5820-1843\",\"010-4829-1351\"]\n",
    "\n",
    "phonenum2 = []\n",
    "for number in phonenum:\n",
    "  x= number.replace(\"-\",\"\")\n",
    "  \n",
    "  phonenum2.append(x)\n",
    "  \n",
    "print(phonenum2)"
   ]
  },
  {
   "cell_type": "markdown",
   "metadata": {},
   "source": [
    "#### 5-5-6 리스트에서 문자열 치환하기"
   ]
  }
 ],
 "metadata": {
  "interpreter": {
   "hash": "e1867ef11b5f9f17f281a00a14b2388964eb4ad8c91585c89c898a79ceb73977"
  },
  "kernelspec": {
   "display_name": "Python 3 (ipykernel)",
   "language": "python",
   "name": "python3"
  },
  "language_info": {
   "codemirror_mode": {
    "name": "ipython",
    "version": 3
   },
   "file_extension": ".py",
   "mimetype": "text/x-python",
   "name": "python",
   "nbconvert_exporter": "python",
   "pygments_lexer": "ipython3",
   "version": "3.9.7"
  }
 },
 "nbformat": 4,
 "nbformat_minor": 2
}
