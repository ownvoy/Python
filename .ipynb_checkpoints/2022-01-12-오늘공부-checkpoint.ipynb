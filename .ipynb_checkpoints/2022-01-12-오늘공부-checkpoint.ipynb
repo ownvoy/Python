{
 "cells": [
  {
   "cell_type": "markdown",
   "metadata": {},
   "source": [
    "## 4 반복문\n",
    "### 4.1 반복문이란?\n",
    "파이썬의 반복문에는 다음 2가지가 존재한다.  \n",
    "- for 문  \n",
    "- while 문  \n"
   ]
  },
  {
   "cell_type": "code",
   "execution_count": 2,
   "metadata": {},
   "outputs": [
    {
     "name": "stdout",
     "output_type": "stream",
     "text": [
      "안녕하세요!!\n",
      "안녕하세요!!\n",
      "안녕하세요!!\n",
      "안녕하세요!!\n",
      "안녕하세요!!\n"
     ]
    }
   ],
   "source": [
    "print(\"안녕하세요!!\")\n",
    "print(\"안녕하세요!!\")\n",
    "print(\"안녕하세요!!\")\n",
    "print(\"안녕하세요!!\")\n",
    "print(\"안녕하세요!!\")"
   ]
  },
  {
   "cell_type": "markdown",
   "metadata": {},
   "source": [
    "를 짧게 치도록 해준다.  "
   ]
  },
  {
   "cell_type": "code",
   "execution_count": 1,
   "metadata": {},
   "outputs": [
    {
     "name": "stdout",
     "output_type": "stream",
     "text": [
      "안녕하세요!!\n",
      "안녕하세요!!\n",
      "안녕하세요!!\n",
      "안녕하세요!!\n",
      "안녕하세요!!\n"
     ]
    }
   ],
   "source": [
    "for x in range(5):\n",
    "  print(\"안녕하세요!!\")"
   ]
  },
  {
   "cell_type": "markdown",
   "metadata": {},
   "source": [
    "### 4.2 for문\n",
    "#### 4.2.1 for문 기본 구조\n",
    "\n",
    "__정수 합계 구하기__"
   ]
  },
  {
   "cell_type": "code",
   "execution_count": 4,
   "metadata": {},
   "outputs": [
    {
     "name": "stdout",
     "output_type": "stream",
     "text": [
      "1번째 합은 1 입니다.\n",
      "2번째 합은 3 입니다.\n",
      "3번째 합은 6 입니다.\n",
      "4번째 합은 10 입니다.\n",
      "5번째 합은 15 입니다.\n",
      "6번째 합은 21 입니다.\n",
      "7번째 합은 28 입니다.\n",
      "8번째 합은 36 입니다.\n",
      "9번째 합은 45 입니다.\n",
      "10번째 합은 55 입니다.\n"
     ]
    }
   ],
   "source": [
    "sum=0\n",
    "for x in range(1,11):\n",
    "  sum=sum + x\n",
    "  print(\"%d번째 합은 %d 입니다.\"%(x,sum))\n",
    "\n"
   ]
  },
  {
   "cell_type": "markdown",
   "metadata": {},
   "source": [
    "1에서 10까지를 `(1,11)`로 표현 `(1:10)`이 아니라"
   ]
  },
  {
   "cell_type": "markdown",
   "metadata": {},
   "source": [
    "#### 4.2.2 `range()`"
   ]
  },
  {
   "cell_type": "code",
   "execution_count": 4,
   "metadata": {},
   "outputs": [
    {
     "name": "stdout",
     "output_type": "stream",
     "text": [
      "1\n",
      "3\n",
      "5\n",
      "7\n",
      "9\n"
     ]
    }
   ],
   "source": [
    "for x in range(1,11,2):\n",
    "  print(x)"
   ]
  },
  {
   "cell_type": "markdown",
   "metadata": {},
   "source": [
    "1부터 10까지 2간격씩"
   ]
  },
  {
   "cell_type": "markdown",
   "metadata": {},
   "source": [
    "줄 바꿈말고 띄어쓰기를 하고 싶으면 `end=\" \"`를 사용하면 된다.    "
   ]
  },
  {
   "cell_type": "code",
   "execution_count": 7,
   "metadata": {},
   "outputs": [
    {
     "name": "stdout",
     "output_type": "stream",
     "text": [
      "1 3 5 7 9 "
     ]
    }
   ],
   "source": [
    "for x in range(1,11,2):\n",
    "  print(x,end=\" \")"
   ]
  },
  {
   "cell_type": "markdown",
   "metadata": {},
   "source": [
    "/를 추가하고 싶으면 `end=\"/\"`를 사용하면 된다.  "
   ]
  },
  {
   "cell_type": "code",
   "execution_count": 8,
   "metadata": {},
   "outputs": [
    {
     "name": "stdout",
     "output_type": "stream",
     "text": [
      "1/3/5/7/9/"
     ]
    }
   ],
   "source": [
    "for x in range(1,11,2):\n",
    "  print(x,end=\"/\")"
   ]
  },
  {
   "cell_type": "markdown",
   "metadata": {},
   "source": [
    "__1부터 100까지 5의 배수의 합들 구하기__"
   ]
  },
  {
   "cell_type": "code",
   "execution_count": 11,
   "metadata": {},
   "outputs": [
    {
     "name": "stdout",
     "output_type": "stream",
     "text": [
      "1050\n"
     ]
    }
   ],
   "source": [
    "sum=0\n",
    "for x in range(0,101,5):\n",
    "  sum=sum+x\n",
    "print(sum)\n",
    "  "
   ]
  },
  {
   "cell_type": "markdown",
   "metadata": {},
   "source": [
    "for 문 안에 if 문을 써 다음을 구할 수도 있다.  "
   ]
  },
  {
   "cell_type": "code",
   "execution_count": 12,
   "metadata": {},
   "outputs": [
    {
     "name": "stdout",
     "output_type": "stream",
     "text": [
      "1050\n"
     ]
    }
   ],
   "source": [
    "sum=0\n",
    "for x in range(0,101):\n",
    "  if x%5 ==0:\n",
    "    sum=sum+x\n",
    "print(sum)"
   ]
  },
  {
   "cell_type": "markdown",
   "metadata": {},
   "source": [
    "__영어 문장을 세로로 한 자씨 쓰세요__"
   ]
  },
  {
   "cell_type": "code",
   "execution_count": 13,
   "metadata": {},
   "outputs": [
    {
     "name": "stdout",
     "output_type": "stream",
     "text": [
      "M\n",
      "a\n",
      "y\n",
      " \n",
      "t\n",
      "h\n",
      "e\n",
      " \n",
      "f\n",
      "o\n",
      "r\n",
      "c\n",
      "e\n",
      " \n",
      "b\n",
      "e\n",
      " \n",
      "w\n",
      "i\n",
      "t\n",
      "h\n",
      " \n",
      "y\n",
      "o\n",
      "u\n"
     ]
    }
   ],
   "source": [
    "word=input(\"영어 문장을 입력하시오\")\n",
    "for x in word:\n",
    "  print(x)"
   ]
  },
  {
   "cell_type": "markdown",
   "metadata": {},
   "source": [
    "__전화 번호에서 - 제거하기__"
   ]
  },
  {
   "cell_type": "code",
   "execution_count": 15,
   "metadata": {},
   "outputs": [
    {
     "name": "stdout",
     "output_type": "stream",
     "text": [
      "01098732343"
     ]
    }
   ],
   "source": [
    "number= input(\"-를 포함해서 전화번호를 입력하세요\")\n",
    "for x in number:\n",
    "  if x != \"-\":\n",
    "    print(x,end=\"\")"
   ]
  },
  {
   "cell_type": "markdown",
   "metadata": {},
   "source": [
    "__for 문으로 5의 배수가 아닌 수를 출력하라__\n",
    "다음은 for 문을 이용하여 200에서 800까지의 정수 중에서 5의 배수가 아닌 수를 한 줄에 10개씩 출력하는 프로그램이다. 밑줄 친 부분을 채워 프로그램을 완성하시오."
   ]
  },
  {
   "cell_type": "code",
   "execution_count": 23,
   "metadata": {},
   "outputs": [
    {
     "name": "stdout",
     "output_type": "stream",
     "text": [
      "201 202 203 204 206 207 208 209 211 212 \n",
      "213 214 216 217 218 219 221 222 223 224 \n",
      "226 227 228 229 231 232 233 234 236 237 \n",
      "238 239 241 242 243 244 246 247 248 249 \n",
      "251 252 253 254 256 257 258 259 261 262 \n",
      "263 264 266 267 268 269 271 272 273 274 \n",
      "276 277 278 279 281 282 283 284 286 287 \n",
      "288 289 291 292 293 294 296 297 298 299 \n",
      "301 302 303 304 306 307 308 309 311 312 \n",
      "313 314 316 317 318 319 321 322 323 324 \n",
      "326 327 328 329 331 332 333 334 336 337 \n",
      "338 339 341 342 343 344 346 347 348 349 \n",
      "351 352 353 354 356 357 358 359 361 362 \n",
      "363 364 366 367 368 369 371 372 373 374 \n",
      "376 377 378 379 381 382 383 384 386 387 \n",
      "388 389 391 392 393 394 396 397 398 399 \n",
      "401 402 403 404 406 407 408 409 411 412 \n",
      "413 414 416 417 418 419 421 422 423 424 \n",
      "426 427 428 429 431 432 433 434 436 437 \n",
      "438 439 441 442 443 444 446 447 448 449 \n",
      "451 452 453 454 456 457 458 459 461 462 \n",
      "463 464 466 467 468 469 471 472 473 474 \n",
      "476 477 478 479 481 482 483 484 486 487 \n",
      "488 489 491 492 493 494 496 497 498 499 \n",
      "501 502 503 504 506 507 508 509 511 512 \n",
      "513 514 516 517 518 519 521 522 523 524 \n",
      "526 527 528 529 531 532 533 534 536 537 \n",
      "538 539 541 542 543 544 546 547 548 549 \n",
      "551 552 553 554 556 557 558 559 561 562 \n",
      "563 564 566 567 568 569 571 572 573 574 \n",
      "576 577 578 579 581 582 583 584 586 587 \n",
      "588 589 591 592 593 594 596 597 598 599 \n",
      "601 602 603 604 606 607 608 609 611 612 \n",
      "613 614 616 617 618 619 621 622 623 624 \n",
      "626 627 628 629 631 632 633 634 636 637 \n",
      "638 639 641 642 643 644 646 647 648 649 \n",
      "651 652 653 654 656 657 658 659 661 662 \n",
      "663 664 666 667 668 669 671 672 673 674 \n",
      "676 677 678 679 681 682 683 684 686 687 \n",
      "688 689 691 692 693 694 696 697 698 699 \n",
      "701 702 703 704 706 707 708 709 711 712 \n",
      "713 714 716 717 718 719 721 722 723 724 \n",
      "726 727 728 729 731 732 733 734 736 737 \n",
      "738 739 741 742 743 744 746 747 748 749 \n",
      "751 752 753 754 756 757 758 759 761 762 \n",
      "763 764 766 767 768 769 771 772 773 774 \n",
      "776 777 778 779 781 782 783 784 786 787 \n",
      "788 789 791 792 793 794 796 797 798 799 \n"
     ]
    }
   ],
   "source": [
    "count=0\n",
    "for x in range(200,801):\n",
    "  if x%5 !=0:\n",
    "    print(x, end=\" \")\n",
    "    count= count+1\n",
    "    \n",
    "    if count%10 == 0:\n",
    "      print()  "
   ]
  },
  {
   "cell_type": "markdown",
   "metadata": {},
   "source": [
    "__for 문으로 별표(*)트리를 만들어라__"
   ]
  },
  {
   "cell_type": "code",
   "execution_count": 27,
   "metadata": {},
   "outputs": [
    {
     "name": "stdout",
     "output_type": "stream",
     "text": [
      "\n",
      "\n",
      "*\n",
      "\n",
      "**\n",
      "\n",
      "***\n",
      "\n",
      "****\n",
      "\n",
      "*****\n",
      "\n",
      "******\n",
      "\n",
      "*******\n",
      "\n",
      "********\n",
      "\n",
      "*********\n",
      "\n"
     ]
    }
   ],
   "source": [
    "for x in range(10):\n",
    "  print(\"*\"*x)\n",
    "  print()"
   ]
  },
  {
   "cell_type": "markdown",
   "metadata": {},
   "source": [
    "__위 트리모양을 거꾸로 만들어 봐라__"
   ]
  },
  {
   "cell_type": "code",
   "execution_count": 29,
   "metadata": {},
   "outputs": [
    {
     "name": "stdout",
     "output_type": "stream",
     "text": [
      "**********\n",
      "\n",
      "*********\n",
      "\n",
      "********\n",
      "\n",
      "*******\n",
      "\n",
      "******\n",
      "\n",
      "*****\n",
      "\n",
      "****\n",
      "\n",
      "***\n",
      "\n",
      "**\n",
      "\n"
     ]
    }
   ],
   "source": [
    "for x in range(10,0,-1):\n",
    "  print(\"*\"*x)\n",
    "  print()"
   ]
  },
  {
   "cell_type": "markdown",
   "metadata": {},
   "source": [
    "__for문으로 홀수의 개수를 카운트하라!__\n"
   ]
  },
  {
   "cell_type": "code",
   "execution_count": 32,
   "metadata": {},
   "outputs": [
    {
     "ename": "TypeError",
     "evalue": "not all arguments converted during string formatting",
     "output_type": "error",
     "traceback": [
      "\u001b[1;31m---------------------------------------------------------------------------\u001b[0m",
      "\u001b[1;31mTypeError\u001b[0m                                 Traceback (most recent call last)",
      "\u001b[1;32m~\\AppData\\Local\\Temp/ipykernel_26060/2187510696.py\u001b[0m in \u001b[0;36m<module>\u001b[1;34m\u001b[0m\n\u001b[0;32m      2\u001b[0m \u001b[0ms\u001b[0m\u001b[1;33m=\u001b[0m\u001b[0minput\u001b[0m\u001b[1;33m(\u001b[0m\u001b[1;34m\"숫자를 입력하시오\"\u001b[0m\u001b[1;33m)\u001b[0m\u001b[1;33m\u001b[0m\u001b[1;33m\u001b[0m\u001b[0m\n\u001b[0;32m      3\u001b[0m \u001b[1;32mfor\u001b[0m \u001b[0mx\u001b[0m \u001b[1;32min\u001b[0m \u001b[0ms\u001b[0m\u001b[1;33m:\u001b[0m\u001b[1;33m\u001b[0m\u001b[1;33m\u001b[0m\u001b[0m\n\u001b[1;32m----> 4\u001b[1;33m   \u001b[1;32mif\u001b[0m \u001b[0mx\u001b[0m\u001b[1;33m%\u001b[0m\u001b[1;36m2\u001b[0m \u001b[1;33m!=\u001b[0m \u001b[1;36m0\u001b[0m\u001b[1;33m:\u001b[0m\u001b[1;33m\u001b[0m\u001b[1;33m\u001b[0m\u001b[0m\n\u001b[0m\u001b[0;32m      5\u001b[0m     \u001b[0mcount\u001b[0m\u001b[1;33m=\u001b[0m \u001b[0mcount\u001b[0m\u001b[1;33m+\u001b[0m\u001b[1;36m1\u001b[0m\u001b[1;33m\u001b[0m\u001b[1;33m\u001b[0m\u001b[0m\n\u001b[0;32m      6\u001b[0m \u001b[0mprint\u001b[0m\u001b[1;33m(\u001b[0m\u001b[1;34m\"입력하신 홀수의 개수는 %d입니다.\"\u001b[0m\u001b[1;33m%\u001b[0m\u001b[0mcount\u001b[0m\u001b[1;33m)\u001b[0m\u001b[1;33m\u001b[0m\u001b[1;33m\u001b[0m\u001b[0m\n",
      "\u001b[1;31mTypeError\u001b[0m: not all arguments converted during string formatting"
     ]
    }
   ],
   "source": [
    "count=0\n",
    "s=input(\"숫자를 입력하시오\")\n",
    "for x in s:\n",
    "  if x%2 != 0:\n",
    "    count= count+1\n",
    "print(\"입력하신 홀수의 개수는 %d입니다.\"%count)"
   ]
  },
  {
   "cell_type": "code",
   "execution_count": 34,
   "metadata": {},
   "outputs": [
    {
     "name": "stdout",
     "output_type": "stream",
     "text": [
      "입력하신 홀수의 개수는 2입니다.\n"
     ]
    }
   ],
   "source": [
    "count=0\n",
    "s=input(\"숫자를 입력하시오\")\n",
    "for x in s:\n",
    "  if int(x)%2 != 0:\n",
    "    count= count+1\n",
    "print(\"입력하신 홀수의 개수는 %d입니다.\"%count)"
   ]
  },
  {
   "cell_type": "markdown",
   "metadata": {},
   "source": [
    "`x`는 string이다.  `s`가 string이어서"
   ]
  },
  {
   "cell_type": "markdown",
   "metadata": {},
   "source": [
    "### 4.3 이중 for문"
   ]
  },
  {
   "cell_type": "markdown",
   "metadata": {},
   "source": [
    "__2단을 만들어봐라__"
   ]
  },
  {
   "cell_type": "code",
   "execution_count": 39,
   "metadata": {},
   "outputs": [
    {
     "name": "stdout",
     "output_type": "stream",
     "text": [
      "2 x 1 = 2\n",
      "2 x 2 = 4\n",
      "2 x 3 = 6\n",
      "2 x 4 = 8\n",
      "2 x 5 = 10\n",
      "2 x 6 = 12\n",
      "2 x 7 = 14\n",
      "2 x 8 = 16\n",
      "2 x 9 = 18\n"
     ]
    }
   ],
   "source": [
    "for x in range(1,10):\n",
    "  result=2*x\n",
    "  print(\"2 x %d = %d\" %(x,result))"
   ]
  },
  {
   "cell_type": "markdown",
   "metadata": {},
   "source": [
    "__이를 응용하여 구구단을 만들어 봐라__"
   ]
  },
  {
   "cell_type": "code",
   "execution_count": 42,
   "metadata": {},
   "outputs": [
    {
     "name": "stdout",
     "output_type": "stream",
     "text": [
      "1 x 1= 1\n",
      "1 x 2= 2\n",
      "1 x 3= 3\n",
      "1 x 4= 4\n",
      "1 x 5= 5\n",
      "1 x 6= 6\n",
      "1 x 7= 7\n",
      "1 x 8= 8\n",
      "1 x 9= 9\n",
      "----------\n",
      "2 x 1= 2\n",
      "2 x 2= 4\n",
      "2 x 3= 6\n",
      "2 x 4= 8\n",
      "2 x 5= 10\n",
      "2 x 6= 12\n",
      "2 x 7= 14\n",
      "2 x 8= 16\n",
      "2 x 9= 18\n",
      "----------\n",
      "3 x 1= 3\n",
      "3 x 2= 6\n",
      "3 x 3= 9\n",
      "3 x 4= 12\n",
      "3 x 5= 15\n",
      "3 x 6= 18\n",
      "3 x 7= 21\n",
      "3 x 8= 24\n",
      "3 x 9= 27\n",
      "----------\n",
      "4 x 1= 4\n",
      "4 x 2= 8\n",
      "4 x 3= 12\n",
      "4 x 4= 16\n",
      "4 x 5= 20\n",
      "4 x 6= 24\n",
      "4 x 7= 28\n",
      "4 x 8= 32\n",
      "4 x 9= 36\n",
      "----------\n",
      "5 x 1= 5\n",
      "5 x 2= 10\n",
      "5 x 3= 15\n",
      "5 x 4= 20\n",
      "5 x 5= 25\n",
      "5 x 6= 30\n",
      "5 x 7= 35\n",
      "5 x 8= 40\n",
      "5 x 9= 45\n",
      "----------\n",
      "6 x 1= 6\n",
      "6 x 2= 12\n",
      "6 x 3= 18\n",
      "6 x 4= 24\n",
      "6 x 5= 30\n",
      "6 x 6= 36\n",
      "6 x 7= 42\n",
      "6 x 8= 48\n",
      "6 x 9= 54\n",
      "----------\n",
      "7 x 1= 7\n",
      "7 x 2= 14\n",
      "7 x 3= 21\n",
      "7 x 4= 28\n",
      "7 x 5= 35\n",
      "7 x 6= 42\n",
      "7 x 7= 49\n",
      "7 x 8= 56\n",
      "7 x 9= 63\n",
      "----------\n",
      "8 x 1= 8\n",
      "8 x 2= 16\n",
      "8 x 3= 24\n",
      "8 x 4= 32\n",
      "8 x 5= 40\n",
      "8 x 6= 48\n",
      "8 x 7= 56\n",
      "8 x 8= 64\n",
      "8 x 9= 72\n",
      "----------\n",
      "9 x 1= 9\n",
      "9 x 2= 18\n",
      "9 x 3= 27\n",
      "9 x 4= 36\n",
      "9 x 5= 45\n",
      "9 x 6= 54\n",
      "9 x 7= 63\n",
      "9 x 8= 72\n",
      "9 x 9= 81\n",
      "----------\n"
     ]
    }
   ],
   "source": [
    "for first in range(1,10):\n",
    "  for second in range(1,10):\n",
    "    result= first*second\n",
    "    print(\"%d x %d= %d\"% (first,second,result)) \n",
    "  print(\"-\"*10)"
   ]
  },
  {
   "cell_type": "markdown",
   "metadata": {},
   "source": [
    "__이중 for문으로 사각형 형태를 만들어라!__"
   ]
  },
  {
   "cell_type": "code",
   "execution_count": 50,
   "metadata": {},
   "outputs": [
    {
     "name": "stdout",
     "output_type": "stream",
     "text": [
      "* * * * * * * * * * \n",
      "* * * * * * * * * * \n",
      "* * * * * * * * * * \n",
      "* * * * * * * * * * \n"
     ]
    }
   ],
   "source": [
    "count=0\n",
    "for x in range(1,41):\n",
    "  if x%10 != 0:\n",
    "    print(\"*\",end=\" \")\n",
    "  else:\n",
    "    print(\"*\",end=\" \")\n",
    "    print()"
   ]
  },
  {
   "cell_type": "code",
   "execution_count": 76,
   "metadata": {},
   "outputs": [
    {
     "name": "stdout",
     "output_type": "stream",
     "text": [
      "* * * * * * * * * * \n",
      "* * * * * * * * * * \n",
      "* * * * * * * * * * \n",
      "* * * * * * * * * * \n",
      "* * * * * * * * * * \n"
     ]
    }
   ],
   "source": [
    "count= 0\n",
    "for count in range(1,6):\n",
    "  for x in range(1,11):\n",
    "   print(\"*\",end= \" \")\n",
    "   count= count+1\n",
    "  print()\n",
    "  "
   ]
  },
  {
   "cell_type": "markdown",
   "metadata": {},
   "source": [
    "더 간단하게"
   ]
  },
  {
   "cell_type": "code",
   "execution_count": 77,
   "metadata": {},
   "outputs": [
    {
     "name": "stdout",
     "output_type": "stream",
     "text": [
      "* * * * * * * * * * \n",
      "* * * * * * * * * * \n",
      "* * * * * * * * * * \n",
      "* * * * * * * * * * \n",
      "* * * * * * * * * * \n"
     ]
    }
   ],
   "source": [
    "for i in range(5):\n",
    "    for x in range(10):\n",
    "      print(\"*\", end=\" \")\n",
    "    print()\n",
    "  "
   ]
  },
  {
   "cell_type": "markdown",
   "metadata": {},
   "source": [
    "__이중 for문으로 역삼각형 형태의 숫자를 만들어라!__"
   ]
  },
  {
   "cell_type": "code",
   "execution_count": 117,
   "metadata": {},
   "outputs": [
    {
     "name": "stdout",
     "output_type": "stream",
     "text": [
      "9 9 9 9 9 9 9 9 9 \n",
      "8 8 8 8 8 8 8 8 \n",
      "7 7 7 7 7 7 7 \n",
      "6 6 6 6 6 6 \n",
      "5 5 5 5 5 \n",
      "4 4 4 4 \n",
      "3 3 3 \n",
      "2 2 \n",
      "1 \n"
     ]
    }
   ],
   "source": [
    "count=10\n",
    "for x in range(1,10):\n",
    "  count= count-1\n",
    "  number= str(count)+\" \"\n",
    "  print(number*count)"
   ]
  },
  {
   "cell_type": "markdown",
   "metadata": {},
   "source": [
    "책에 있는 답  \n",
    "__<span style=\"color:yellow\">깔끔하게 잘 짠 거 같음__"
   ]
  },
  {
   "cell_type": "code",
   "execution_count": 118,
   "metadata": {},
   "outputs": [
    {
     "name": "stdout",
     "output_type": "stream",
     "text": [
      "9 9 9 9 9 9 9 9 9 \n",
      "8 8 8 8 8 8 8 8 \n",
      "7 7 7 7 7 7 7 \n",
      "6 6 6 6 6 6 \n",
      "5 5 5 5 5 \n",
      "4 4 4 4 \n",
      "3 3 3 \n",
      "2 2 \n",
      "1 \n"
     ]
    }
   ],
   "source": [
    "for i in range(9,0,-1)    :\n",
    "  for j in range(i)  :\n",
    "    print(i,end=\" \")\n",
    "  print()"
   ]
  },
  {
   "cell_type": "markdown",
   "metadata": {},
   "source": [
    "### 4.4 while 문\n",
    "__while문의 기본 구조__\n",
    "\n"
   ]
  },
  {
   "cell_type": "code",
   "execution_count": 120,
   "metadata": {},
   "outputs": [
    {
     "name": "stdout",
     "output_type": "stream",
     "text": [
      "1 번째에는 1를 합으로 가진다.\n",
      "2 번째에는 3를 합으로 가진다.\n",
      "3 번째에는 6를 합으로 가진다.\n",
      "4 번째에는 10를 합으로 가진다.\n",
      "5 번째에는 15를 합으로 가진다.\n",
      "6 번째에는 21를 합으로 가진다.\n",
      "7 번째에는 28를 합으로 가진다.\n",
      "8 번째에는 36를 합으로 가진다.\n",
      "9 번째에는 45를 합으로 가진다.\n",
      "10 번째에는 55를 합으로 가진다.\n"
     ]
    }
   ],
   "source": [
    "sum = 0\n",
    "i= 1\n",
    "\n",
    "while i <= 10:\n",
    "  sum= sum+ i\n",
    "  print(\"%d 번째에는 %d를 합으로 가진다.\"% (i,sum))\n",
    "  i=i+1"
   ]
  },
  {
   "cell_type": "markdown",
   "metadata": {},
   "source": [
    "__while문으로 5의 배수 합계 구하기__  \n",
    "while문으로 500에서 600까지의 정수 중 5의 배수의 합계를 구하는 프로그램을 만들도록 하자.  "
   ]
  },
  {
   "cell_type": "code",
   "execution_count": 126,
   "metadata": {},
   "outputs": [
    {
     "name": "stdout",
     "output_type": "stream",
     "text": [
      "5의 배수의 합은 11550입니다.\n"
     ]
    }
   ],
   "source": [
    "sum= 0\n",
    "i=500\n",
    "while i <= 600:\n",
    "  if i%5 == 0:\n",
    "    sum= sum + i\n",
    "    \n",
    "  i= i +1\n",
    "print(\"5의 배수의 합은 %d입니다.\"%(sum))"
   ]
  },
  {
   "cell_type": "markdown",
   "metadata": {},
   "source": [
    "__while문으로 영어 모음 개수 구하기__\n"
   ]
  },
  {
   "cell_type": "code",
   "execution_count": 129,
   "metadata": {},
   "outputs": [
    {
     "name": "stdout",
     "output_type": "stream",
     "text": [
      "May the force be with you\n",
      "\n",
      "모음 : a e o e e i o u \n",
      "모음의 개수 : 8\n"
     ]
    }
   ],
   "source": [
    "\n",
    "s = input('영어 문장을 입력하세요 :')\n",
    "\n",
    "i = 0\n",
    "count = 0\n",
    "print(s)\n",
    "print('\\n모음 : ', end = '')\n",
    "\n",
    "while i <= len(s) - 1 :\n",
    "    if (s[i] == 'a' or s[i] == 'A'  or s[i] == 'e' or s[i] == 'E' \\\n",
    "        or  s[i] == 'i' or s[i] == 'I' or s[i] == 'o' or s[i] == 'O' \\\n",
    "        or s[i] == 'u' or s[i] == 'U') :\n",
    "        count += 1\n",
    "        print(s[i], end=' ')\n",
    "        \n",
    "    i += 1\n",
    "    \n",
    "print('\\n모음의 개수 : %d' % count)"
   ]
  },
  {
   "cell_type": "markdown",
   "metadata": {},
   "source": [
    "### 4.5 break문으로 빠져 나가기"
   ]
  },
  {
   "cell_type": "markdown",
   "metadata": {},
   "source": [
    "__break문의 사용예시__ "
   ]
  },
  {
   "cell_type": "code",
   "execution_count": 130,
   "metadata": {},
   "outputs": [
    {
     "name": "stdout",
     "output_type": "stream",
     "text": [
      "1\n",
      "2\n",
      "3\n",
      "4\n",
      "5\n",
      "6\n",
      "7\n",
      "8\n",
      "9\n",
      "10\n"
     ]
    }
   ],
   "source": [
    "for x in range(1,1000):\n",
    "  print(x)\n",
    "  \n",
    "  if x==10:\n",
    "    break"
   ]
  },
  {
   "cell_type": "markdown",
   "metadata": {},
   "source": [
    "__while문으로 홀수의 누적 합계를 구하라!__"
   ]
  },
  {
   "cell_type": "code",
   "execution_count": 272,
   "metadata": {},
   "outputs": [
    {
     "name": "stdout",
     "output_type": "stream",
     "text": [
      "\n",
      "     1      4      9     16     25 \n",
      "    36     49     64     81    100 \n",
      "   121    144    169    196    225 \n",
      "   256    289    324    361    400 \n",
      "   441    484    529    576    625 \n",
      "   676    729    784    841    900 \n",
      "   961   1024   1089   1156   1225 \n",
      "  1296   1369   1444   1521   1600 \n",
      "  1681   1764   1849   1936   2025 \n",
      "  2116   2209   2304   2401   2500 \n"
     ]
    }
   ],
   "source": [
    "sum=0\n",
    "i=0\n",
    "while i <= 100:\n",
    "  if i%2 != 0:\n",
    "    sum=sum + i\n",
    "    print(\"%6d\" %sum ,end=\" \")\n",
    "  if i%10 == 0:\n",
    "    print()\n",
    "      \n",
    "  i= i+1"
   ]
  },
  {
   "cell_type": "markdown",
   "metadata": {},
   "source": [
    "왜 5단위로 끊기지"
   ]
  },
  {
   "cell_type": "markdown",
   "metadata": {},
   "source": [
    "정답"
   ]
  },
  {
   "cell_type": "code",
   "execution_count": 273,
   "metadata": {},
   "outputs": [
    {
     "name": "stdout",
     "output_type": "stream",
     "text": [
      "     1     4     9    16    25    36    49    64    81   100\n",
      "   121   144   169   196   225   256   289   324   361   400\n",
      "   441   484   529   576   625   676   729   784   841   900\n",
      "   961  1024  1089  1156  1225  1296  1369  1444  1521  1600\n",
      "  1681  1764  1849  1936  2025  2116  2209  2304  2401  2500\n"
     ]
    }
   ],
   "source": [
    "i=1\n",
    "sum= 0\n",
    "count=0\n",
    "\n",
    "while i<= 100:\n",
    "  if i%2 !=0 :\n",
    "    sum= sum + i\n",
    "    print(\"%6d\"% sum, end=\"\")\n",
    "    count= count+1\n",
    "    \n",
    "    if count%10 ==0:\n",
    "      print()\n",
    "  i= i + 1"
   ]
  },
  {
   "cell_type": "markdown",
   "metadata": {},
   "source": [
    "__while문으로 영어 문장을 역순으로 출력하라!__  \n",
    "다음은 while문을 이용하여 영어 문장을 역순으로 하고 공백을 하이픈으로 변경하는 프로그램이다.  \n"
   ]
  },
  {
   "cell_type": "code",
   "execution_count": 274,
   "metadata": {},
   "outputs": [
    {
     "name": "stdout",
     "output_type": "stream",
     "text": [
      "May the force be with you\n",
      "u o y - h t i w - e b - e c r o f - e h t - y a M "
     ]
    }
   ],
   "source": [
    "s=input(\"문장을 입력해 주세요:\")\n",
    "print(s)\n",
    "\n",
    "count=len(s)-1\n",
    "while count >= 0:\n",
    "  if s[count]== \" \":\n",
    "    print(\"-\",end=\" \")\n",
    "  else:\n",
    "    print(s[count],end=\" \")\n",
    "  count=count-1\n",
    "\n",
    "\n",
    "  \n",
    "  "
   ]
  }
 ],
 "metadata": {
  "interpreter": {
   "hash": "e1867ef11b5f9f17f281a00a14b2388964eb4ad8c91585c89c898a79ceb73977"
  },
  "kernelspec": {
   "display_name": "Python 3 (ipykernel)",
   "language": "python",
   "name": "python3"
  },
  "language_info": {
   "codemirror_mode": {
    "name": "ipython",
    "version": 3
   },
   "file_extension": ".py",
   "mimetype": "text/x-python",
   "name": "python",
   "nbconvert_exporter": "python",
   "pygments_lexer": "ipython3",
   "version": "3.9.7"
  }
 },
 "nbformat": 4,
 "nbformat_minor": 2
}
