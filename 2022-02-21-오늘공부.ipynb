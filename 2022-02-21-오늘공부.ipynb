{
 "cells": [
  {
   "cell_type": "markdown",
   "metadata": {},
   "source": [
    "8.2 사용자 함수 활용\n",
    "\n",
    "__소수 여부 판별하기__"
   ]
  },
  {
   "cell_type": "code",
   "execution_count": 4,
   "metadata": {},
   "outputs": [
    {
     "name": "stdout",
     "output_type": "stream",
     "text": [
      "소수x\n"
     ]
    }
   ],
   "source": [
    "def is_prime(n):\n",
    "    prime = True\n",
    "    if n>1:\n",
    "        for i in range(2,n):\n",
    "            if n%i == 0:\n",
    "                prime = False\n",
    "            \n",
    "    return prime\n",
    "\n",
    "number = int(input(\"수를 입력하세요: \"))\n",
    "\n",
    "if is_prime(number):\n",
    "    print(\"소수\")\n",
    "else:\n",
    "    print(\"소수x\")"
   ]
  },
  {
   "cell_type": "markdown",
   "metadata": {},
   "source": [
    "N까지의 세제곱 합계 구하기\n",
    "\n",
    "$1^3+2^3+3^3+....+N^3$"
   ]
  },
  {
   "cell_type": "code",
   "execution_count": 7,
   "metadata": {},
   "outputs": [
    {
     "name": "stdout",
     "output_type": "stream",
     "text": [
      "225\n"
     ]
    }
   ],
   "source": [
    "def square_sum(n):\n",
    "    sm= 0\n",
    "    for i in range(1, n+1):\n",
    "        sm = sm + (i*i*i)\n",
    "        \n",
    "    return sm\n",
    "\n",
    "N= int(input(\"N의 값을 입력하세요\"))\n",
    "print(square_sum(N))\n"
   ]
  },
  {
   "cell_type": "markdown",
   "metadata": {},
   "source": [
    "위의 출력 포맷을 바꾸어라!\n",
    "\n",
    "$1* 1 * 1 + 2 * 2 * 2 + 3 * 3 * 3 + 4 * 4 * 4 + 5 * 5 * 5$"
   ]
  },
  {
   "cell_type": "code",
   "execution_count": 37,
   "metadata": {},
   "outputs": [
    {
     "name": "stdout",
     "output_type": "stream",
     "text": [
      "1*1*1 +2*2*2 +3*3*3 +4*4*4 +5*5*5 =225\n"
     ]
    }
   ],
   "source": [
    "def sq_sum(n):\n",
    "    sm = 0\n",
    "    for i in range(1,n+1):\n",
    "        sm = sm + (i*i*i)\n",
    "        print(\"%d*%d*%d\"%(i,i,i), end=\" \")\n",
    "        \n",
    "        if i == n:\n",
    "            print(\"=\",end=\"\")\n",
    "        else:\n",
    "            print(\"+\",end=\"\")\n",
    "        \n",
    "    print(sm)\n",
    "\n",
    "N= int(input(\"N의 값을 입력하세요\"))\n",
    "sq_sum(N)"
   ]
  },
  {
   "cell_type": "markdown",
   "metadata": {},
   "source": [
    "다음은 1~ N의 수 중에서 홀수의 세제곱 합을 구하는 프로그램이다. 밑줄 친 부분을 채워 프로그램을 완성하시오.  \n",
    "\n",
    "$1* 1 * 1 + 3 * 3 * 3 + 5 * 5 * 5 + 7 * 7 * 7 + 9 * 9 * 9 = 1225$"
   ]
  },
  {
   "cell_type": "code",
   "execution_count": 41,
   "metadata": {},
   "outputs": [
    {
     "name": "stdout",
     "output_type": "stream",
     "text": [
      "1*1*1 +3*3*3 +5*5*5 +7*7*7 +9*9*9 +3025\n"
     ]
    }
   ],
   "source": [
    "def sq_sum(n):\n",
    "    sm = 0\n",
    "    for i in range(1,n+1):\n",
    "        sm = sm + (i*i*i)\n",
    "        if i %2 == 1:\n",
    "            print(\"%d*%d*%d\"%(i,i,i), end=\" \")\n",
    "            if i == n:\n",
    "                print(\"=\",end=\"\")\n",
    "            else:\n",
    "                print(\"+\",end=\"\")\n",
    "        \n",
    "    print(sm)\n",
    "\n",
    "N= int(input(\"N의 값을 입력하세요\"))\n",
    "sq_sum(N)"
   ]
  },
  {
   "cell_type": "code",
   "execution_count": null,
   "metadata": {},
   "outputs": [],
   "source": []
  }
 ],
 "metadata": {
  "interpreter": {
   "hash": "cc5f70855ac006f3de45a3cc3b9e7d8d53845e50458809cb162b0174266dec97"
  },
  "kernelspec": {
   "display_name": "Python 3.9.7 ('base')",
   "language": "python",
   "name": "python3"
  },
  "language_info": {
   "codemirror_mode": {
    "name": "ipython",
    "version": 3
   },
   "file_extension": ".py",
   "mimetype": "text/x-python",
   "name": "python",
   "nbconvert_exporter": "python",
   "pygments_lexer": "ipython3",
   "version": "3.9.7"
  },
  "orig_nbformat": 4
 },
 "nbformat": 4,
 "nbformat_minor": 2
}
