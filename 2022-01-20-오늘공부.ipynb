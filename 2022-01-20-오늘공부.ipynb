{
 "cells": [
  {
   "cell_type": "markdown",
   "metadata": {},
   "source": [
    "## 9 모듈\n",
    "\n",
    "<span style=\"color:orange\">모듈</span>은 프로그램이 복잡해지고 소스 파일의 개수가 많아진 경우 하나의 파일을 여러개로 나누어 관리하기 위해 사용된다  \n",
    "\n",
    "__모듈 생성하고 불러오기__\n",
    "다음의 모듈 파일 `hello.py`에는 `greet1()`과 `great2()`가 정의되어 있다."
   ]
  },
  {
   "cell_type": "code",
   "execution_count": 10,
   "metadata": {},
   "outputs": [],
   "source": [
    "def greet1(name):\n",
    "  print(name+ \"님 안녕하세요.\")\n",
    "  \n",
    "def greet2(name):\n",
    "  print(name+ \"님 반갑습니다.\")\n",
    "  \n"
   ]
  },
  {
   "cell_type": "code",
   "execution_count": 11,
   "metadata": {},
   "outputs": [
    {
     "name": "stdout",
     "output_type": "stream",
     "text": [
      "홍지수님 안녕하세요.\n",
      "안지영님 반갑습니다.\n"
     ]
    }
   ],
   "source": [
    "import hello\n",
    "hello.greet1(\"홍지수\")\n",
    "hello.greet2(\"안지영\")"
   ]
  },
  {
   "cell_type": "code",
   "execution_count": 20,
   "metadata": {},
   "outputs": [],
   "source": [
    "def add(a,b):\n",
    "  c= a + b\n",
    "  return c\n",
    "\n",
    "def sub(a,b):\n",
    "  c= a - b\n",
    "  return c"
   ]
  },
  {
   "cell_type": "code",
   "execution_count": 2,
   "metadata": {},
   "outputs": [
    {
     "name": "stdout",
     "output_type": "stream",
     "text": [
      "30\n",
      "-10\n"
     ]
    }
   ],
   "source": [
    "import calc\n",
    "\n",
    "x=calc.add(10,20)\n",
    "print(x)\n",
    "\n",
    "y = calc.sub(10,20)\n",
    "print(y)"
   ]
  },
  {
   "cell_type": "markdown",
   "metadata": {},
   "source": [
    "__import ~ as ~ 구문__"
   ]
  },
  {
   "cell_type": "code",
   "execution_count": 3,
   "metadata": {},
   "outputs": [
    {
     "name": "stdout",
     "output_type": "stream",
     "text": [
      "110\n",
      "868\n"
     ]
    }
   ],
   "source": [
    "import calc as c\n",
    "\n",
    "x=c.add(100,10)\n",
    "print(x)\n",
    "\n",
    "y=c.sub(900,32)\n",
    "print(y)"
   ]
  },
  {
   "cell_type": "markdown",
   "metadata": {},
   "source": [
    "__from ~ import ~ 구문__\n",
    "\n"
   ]
  },
  {
   "cell_type": "code",
   "execution_count": 4,
   "metadata": {},
   "outputs": [
    {
     "name": "stdout",
     "output_type": "stream",
     "text": [
      "134\n",
      "-235\n"
     ]
    }
   ],
   "source": [
    "from calc import add,sub\n",
    "x=add(100,34)\n",
    "print(x)\n",
    "\n",
    "y= sub(89,324)\n",
    "print(y)"
   ]
  }
 ],
 "metadata": {
  "interpreter": {
   "hash": "e1867ef11b5f9f17f281a00a14b2388964eb4ad8c91585c89c898a79ceb73977"
  },
  "kernelspec": {
   "display_name": "Python 3.10.1 64-bit",
   "language": "python",
   "name": "python3"
  },
  "language_info": {
   "codemirror_mode": {
    "name": "ipython",
    "version": 3
   },
   "file_extension": ".py",
   "mimetype": "text/x-python",
   "name": "python",
   "nbconvert_exporter": "python",
   "pygments_lexer": "ipython3",
   "version": "3.10.1"
  },
  "orig_nbformat": 4
 },
 "nbformat": 4,
 "nbformat_minor": 2
}
